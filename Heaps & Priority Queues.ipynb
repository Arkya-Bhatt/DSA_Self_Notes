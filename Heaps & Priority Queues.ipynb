{
 "cells": [
  {
   "cell_type": "code",
   "execution_count": 1,
   "metadata": {
    "colab": {
     "base_uri": "https://localhost:8080/"
    },
    "executionInfo": {
     "elapsed": 8,
     "status": "ok",
     "timestamp": 1755767069219,
     "user": {
      "displayName": "Arkyajit Bhattacharjee",
      "userId": "04753182451150486789"
     },
     "user_tz": -330
    },
    "id": "-56ll69V3aeS",
    "outputId": "06af0ab1-ead6-40d3-c3a8-ccd035b19d43"
   },
   "outputs": [
    {
     "data": {
      "text/plain": [
       "[-4, 0, 1, 3, 2, 5, 10, 8, 12, 9]"
      ]
     },
     "execution_count": 1,
     "metadata": {},
     "output_type": "execute_result"
    }
   ],
   "source": [
    "# Build Min Heap (Heapify)\n",
    "# Time: O(n), Space: O(1)\n",
    "\n",
    "A = [-4, 3, 1, 0, 2, 5, 10, 8, 12, 9]\n",
    "\n",
    "import heapq\n",
    "heapq.heapify(A)\n",
    "\n",
    "A"
   ]
  },
  {
   "cell_type": "code",
   "execution_count": 2,
   "metadata": {
    "colab": {
     "base_uri": "https://localhost:8080/"
    },
    "executionInfo": {
     "elapsed": 6,
     "status": "ok",
     "timestamp": 1755767075785,
     "user": {
      "displayName": "Arkyajit Bhattacharjee",
      "userId": "04753182451150486789"
     },
     "user_tz": -330
    },
    "id": "SYmQYl8B31iB",
    "outputId": "3574fa16-4511-4793-92df-b79c5b3ae5f7"
   },
   "outputs": [
    {
     "data": {
      "text/plain": [
       "[-4, 0, 1, 3, 2, 5, 10, 8, 12, 9, 4]"
      ]
     },
     "execution_count": 2,
     "metadata": {},
     "output_type": "execute_result"
    }
   ],
   "source": [
    "# Heap Push (Insert element)\n",
    "# Time: O(log n)\n",
    "\n",
    "heapq.heappush(A, 4)\n",
    "\n",
    "A"
   ]
  },
  {
   "cell_type": "code",
   "execution_count": 3,
   "metadata": {
    "colab": {
     "base_uri": "https://localhost:8080/"
    },
    "executionInfo": {
     "elapsed": 44,
     "status": "ok",
     "timestamp": 1755767082336,
     "user": {
      "displayName": "Arkyajit Bhattacharjee",
      "userId": "04753182451150486789"
     },
     "user_tz": -330
    },
    "id": "Yw-D539b33Iw",
    "outputId": "d3cbddd5-3788-4221-e008-8d358c256a0d"
   },
   "outputs": [
    {
     "data": {
      "text/plain": [
       "([0, 2, 1, 3, 4, 5, 10, 8, 12, 9], -4)"
      ]
     },
     "execution_count": 3,
     "metadata": {},
     "output_type": "execute_result"
    }
   ],
   "source": [
    "# Heap Pop (Extract min)\n",
    "# Time: O(log n)\n",
    "\n",
    "minn = heapq.heappop(A)\n",
    "\n",
    "A, minn"
   ]
  },
  {
   "cell_type": "code",
   "execution_count": 4,
   "metadata": {
    "colab": {
     "base_uri": "https://localhost:8080/"
    },
    "executionInfo": {
     "elapsed": 5,
     "status": "ok",
     "timestamp": 1755767088384,
     "user": {
      "displayName": "Arkyajit Bhattacharjee",
      "userId": "04753182451150486789"
     },
     "user_tz": -330
    },
    "id": "dFYKKoxa34t9",
    "outputId": "10fb8c39-763f-4995-86f5-f839764e67ad"
   },
   "outputs": [
    {
     "data": {
      "text/plain": [
       "[0, 1, 2, 3, 4, 5, 6, 7, 8, 9]"
      ]
     },
     "execution_count": 4,
     "metadata": {},
     "output_type": "execute_result"
    }
   ],
   "source": [
    "# Heap Sort\n",
    "# Time: O(n log n), Space: O(n)\n",
    "# NOTE: O(1) Space is possible via swapping, but this is complex\n",
    "\n",
    "def heapsort(arr):\n",
    "  heapq.heapify(arr)\n",
    "  n = len(arr)\n",
    "  new_list = [0] * n\n",
    "\n",
    "  for i in range(n):\n",
    "    minn = heapq.heappop(arr)\n",
    "    new_list[i] = minn\n",
    "\n",
    "  return new_list\n",
    "\n",
    "heapsort([1, 3, 5, 7, 9, 2, 4, 6, 8, 0])"
   ]
  },
  {
   "cell_type": "code",
   "execution_count": 5,
   "metadata": {
    "colab": {
     "base_uri": "https://localhost:8080/"
    },
    "executionInfo": {
     "elapsed": 6,
     "status": "ok",
     "timestamp": 1755767095823,
     "user": {
      "displayName": "Arkyajit Bhattacharjee",
      "userId": "04753182451150486789"
     },
     "user_tz": -330
    },
    "id": "6FQLY-pT36NQ",
    "outputId": "c1ff3ac5-f7d0-4dc3-aa32-0525ba3bb531"
   },
   "outputs": [
    {
     "data": {
      "text/plain": [
       "[1, 2, 5, 3, 4, 99, 10, 8, 12, 9]"
      ]
     },
     "execution_count": 5,
     "metadata": {},
     "output_type": "execute_result"
    }
   ],
   "source": [
    "# Heap Push Pop: Time: O(log n)\n",
    "\n",
    "heapq.heappushpop(A, 99)\n",
    "A"
   ]
  },
  {
   "cell_type": "code",
   "execution_count": 6,
   "metadata": {
    "colab": {
     "base_uri": "https://localhost:8080/"
    },
    "executionInfo": {
     "elapsed": 11,
     "status": "ok",
     "timestamp": 1755767104223,
     "user": {
      "displayName": "Arkyajit Bhattacharjee",
      "userId": "04753182451150486789"
     },
     "user_tz": -330
    },
    "id": "eGht-ir-38Am",
    "outputId": "4ae4afa0-e786-4291-b43b-89617d22485f"
   },
   "outputs": [
    {
     "data": {
      "text/plain": [
       "1"
      ]
     },
     "execution_count": 6,
     "metadata": {},
     "output_type": "execute_result"
    }
   ],
   "source": [
    "# Peak at Min: Time O(1)\n",
    "A[0]"
   ]
  },
  {
   "cell_type": "code",
   "execution_count": 7,
   "metadata": {
    "colab": {
     "base_uri": "https://localhost:8080/"
    },
    "executionInfo": {
     "elapsed": 7,
     "status": "ok",
     "timestamp": 1755767114089,
     "user": {
      "displayName": "Arkyajit Bhattacharjee",
      "userId": "04753182451150486789"
     },
     "user_tz": -330
    },
    "id": "CVS7gKHy3-E8",
    "outputId": "7ce3a168-b225-4c1a-959d-0ab834280170"
   },
   "outputs": [
    {
     "data": {
      "text/plain": [
       "[-12, -9, -10, -8, -2, -5, -1, -3, 0, 4]"
      ]
     },
     "execution_count": 7,
     "metadata": {},
     "output_type": "execute_result"
    }
   ],
   "source": [
    "# Max Heap\n",
    "\n",
    "B = [-4, 3, 1, 0, 2, 5, 10, 8, 12, 9]\n",
    "n = len(B)\n",
    "\n",
    "for i in range(n):\n",
    "    B[i] = -B[i]\n",
    "\n",
    "heapq.heapify(B)\n",
    "\n",
    "B"
   ]
  },
  {
   "cell_type": "code",
   "execution_count": 8,
   "metadata": {
    "colab": {
     "base_uri": "https://localhost:8080/"
    },
    "executionInfo": {
     "elapsed": 14,
     "status": "ok",
     "timestamp": 1755767119834,
     "user": {
      "displayName": "Arkyajit Bhattacharjee",
      "userId": "04753182451150486789"
     },
     "user_tz": -330
    },
    "id": "GBXD7JrA4Aer",
    "outputId": "07cedefb-dcc2-4dbe-b520-ca289c16e5f1"
   },
   "outputs": [
    {
     "data": {
      "text/plain": [
       "12"
      ]
     },
     "execution_count": 8,
     "metadata": {},
     "output_type": "execute_result"
    }
   ],
   "source": [
    "largest = -heapq.heappop(B)\n",
    "\n",
    "largest"
   ]
  },
  {
   "cell_type": "code",
   "execution_count": 9,
   "metadata": {
    "colab": {
     "base_uri": "https://localhost:8080/"
    },
    "executionInfo": {
     "elapsed": 13,
     "status": "ok",
     "timestamp": 1755767126634,
     "user": {
      "displayName": "Arkyajit Bhattacharjee",
      "userId": "04753182451150486789"
     },
     "user_tz": -330
    },
    "id": "QdWOpTKw4B46",
    "outputId": "07e9dbee-55f7-4966-a962-e8925d9752d1"
   },
   "outputs": [
    {
     "data": {
      "text/plain": [
       "[-10, -9, -5, -8, -7, 4, -1, -3, 0, -2]"
      ]
     },
     "execution_count": 9,
     "metadata": {},
     "output_type": "execute_result"
    }
   ],
   "source": [
    "heapq.heappush(B, -7) # Insert 7 into max heap\n",
    "\n",
    "B"
   ]
  },
  {
   "cell_type": "code",
   "execution_count": 10,
   "metadata": {
    "colab": {
     "base_uri": "https://localhost:8080/"
    },
    "executionInfo": {
     "elapsed": 9,
     "status": "ok",
     "timestamp": 1755767133329,
     "user": {
      "displayName": "Arkyajit Bhattacharjee",
      "userId": "04753182451150486789"
     },
     "user_tz": -330
    },
    "id": "bcyAHzHo4DjT",
    "outputId": "8f6f6448-f414-4a9c-b1a5-f060674f4308"
   },
   "outputs": [
    {
     "name": "stdout",
     "output_type": "stream",
     "text": [
      "[-5] 1\n",
      "[-5, 4] 2\n",
      "[-5, 4, 2] 3\n",
      "[-5, 1, 2, 4] 4\n",
      "[-5, 1, 2, 4, 7] 5\n",
      "[-5, 1, 0, 4, 7, 2] 6\n",
      "[-5, 1, 0, 4, 7, 2, 3] 7\n"
     ]
    }
   ],
   "source": [
    "# Build heap from scratch - Time: O(n log n)\n",
    "\n",
    "C = [-5, 4, 2, 1, 7, 0, 3]\n",
    "\n",
    "heap = []\n",
    "\n",
    "for x in C:\n",
    "  heapq.heappush(heap, x)\n",
    "  print(heap, len(heap)) # Check size of heap"
   ]
  },
  {
   "cell_type": "code",
   "execution_count": 11,
   "metadata": {
    "colab": {
     "base_uri": "https://localhost:8080/"
    },
    "executionInfo": {
     "elapsed": 13,
     "status": "ok",
     "timestamp": 1755767139865,
     "user": {
      "displayName": "Arkyajit Bhattacharjee",
      "userId": "04753182451150486789"
     },
     "user_tz": -330
    },
    "id": "NW0yIk4u4FLV",
    "outputId": "ab91b23f-c135-439b-9ff8-898bec610bf1"
   },
   "outputs": [
    {
     "data": {
      "text/plain": [
       "Counter({5: 4, 4: 3, 3: 2})"
      ]
     },
     "execution_count": 11,
     "metadata": {},
     "output_type": "execute_result"
    }
   ],
   "source": [
    "# Putting tuples of items on the heap\n",
    "\n",
    "D = [5, 4, 3, 5, 4, 3, 5, 5, 4]\n",
    "\n",
    "from collections import Counter\n",
    "\n",
    "counter = Counter(D)\n",
    "\n",
    "counter"
   ]
  },
  {
   "cell_type": "code",
   "execution_count": 12,
   "metadata": {
    "colab": {
     "base_uri": "https://localhost:8080/"
    },
    "executionInfo": {
     "elapsed": 6,
     "status": "ok",
     "timestamp": 1755767145694,
     "user": {
      "displayName": "Arkyajit Bhattacharjee",
      "userId": "04753182451150486789"
     },
     "user_tz": -330
    },
    "id": "fAB3MVby4GyC",
    "outputId": "14687b5e-55f0-4352-d8a6-4b04e204f37b"
   },
   "outputs": [
    {
     "data": {
      "text/plain": [
       "[(2, 3), (4, 5), (3, 4)]"
      ]
     },
     "execution_count": 12,
     "metadata": {},
     "output_type": "execute_result"
    }
   ],
   "source": [
    "heap = []\n",
    "\n",
    "for k, v in counter.items():\n",
    "  heapq.heappush(heap, (v, k))\n",
    "\n",
    "heap"
   ]
  },
  {
   "cell_type": "code",
   "execution_count": null,
   "metadata": {
    "id": "_GE-Tw2B4ING"
   },
   "outputs": [],
   "source": []
  }
 ],
 "metadata": {
  "colab": {
   "authorship_tag": "ABX9TyMN5PD1yqt1KHrJr+d2Pd6y",
   "provenance": []
  },
  "kernelspec": {
   "display_name": "Python 3",
   "name": "python3"
  },
  "language_info": {
   "name": "python",
   "version": "3.13.0"
  }
 },
 "nbformat": 4,
 "nbformat_minor": 0
}
